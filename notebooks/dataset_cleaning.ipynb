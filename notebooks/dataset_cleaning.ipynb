{
  "cells": [
    {
      "cell_type": "code",
      "execution_count": null,
      "metadata": {
        "id": "rfJ57UHx9dqu"
      },
      "outputs": [],
      "source": [
        "from google.colab import drive\n",
        "import pandas as pd\n",
        "import os\n",
        "import wave\n",
        "import numpy as np\n",
        "import re"
      ]
    },
    {
      "cell_type": "code",
      "execution_count": null,
      "metadata": {
        "colab": {
          "base_uri": "https://localhost:8080/"
        },
        "id": "yYOSmIo6VXqh",
        "outputId": "7fcb0080-3f11-47d5-d9fa-451ce07af963"
      },
      "outputs": [],
      "source": [
        "drive.mount('/content/drive') # Change if needed\n",
        "raw_database_path = \"\" # Write the raw_database/ path\n",
        "databases_infos_path = \"\" # Write a directory path where you are reading and saving .xlsx files with databases informations."
      ]
    },
    {
      "cell_type": "code",
      "execution_count": null,
      "metadata": {
        "id": "LxSFAekZoUck"
      },
      "outputs": [],
      "source": [
        "database_info = pd.read_excel(os.path.join(raw_database_path, \"FetalPCGSpreadsheet.xlsx\"))"
      ]
    },
    {
      "cell_type": "code",
      "execution_count": null,
      "metadata": {
        "colab": {
          "base_uri": "https://localhost:8080/"
        },
        "id": "x-ELVMf0sSga",
        "outputId": "2ce0f3aa-f441-4c2c-ade9-3a649bcece15"
      },
      "outputs": [],
      "source": [
        "print(database_info)"
      ]
    },
    {
      "cell_type": "code",
      "execution_count": null,
      "metadata": {
        "colab": {
          "base_uri": "https://localhost:8080/"
        },
        "id": "ZJpR2jdsmCXG",
        "outputId": "03f15196-aec5-4ad5-96ac-fb4a7c0f1176"
      },
      "outputs": [],
      "source": [
        "# Selects the columns that will be used and renames the BPM column, specifically the patient identifier ('Subject ID') and the heart rate ('CTG Heart-rate (BPM). Each number corresponds to the average fetal heart rate over 10 seconds of the signal, whenever available. Brackets denote unreported values')\n",
        "database_info = database_info.rename(columns={'CTG Heart-rate (BPM). Each number corresponds to the average fetal heart-rate over 10 seconds of the signal, whenever available. Brackets denote unreported values': 'BPM'})\n",
        "database_info = database_info[['Subject ID', 'BPM']]\n",
        "print(database_info)"
      ]
    },
    {
      "cell_type": "code",
      "execution_count": null,
      "metadata": {
        "colab": {
          "base_uri": "https://localhost:8080/",
          "height": 147
        },
        "id": "TPE7rSp1tDdE",
        "outputId": "fe041a24-3f31-4a20-9764-ced7e3498483"
      },
      "outputs": [],
      "source": [
        "# Verify number of empty data\n",
        "database_info.isna().sum()"
      ]
    },
    {
      "cell_type": "code",
      "execution_count": null,
      "metadata": {
        "colab": {
          "base_uri": "https://localhost:8080/"
        },
        "id": "fUNu3-TBmtk6",
        "outputId": "90a1579c-232d-4e0d-dbe0-29799aaf3384"
      },
      "outputs": [],
      "source": [
        "# Remove empty data from subject ID\n",
        "database_info = database_info.dropna(subset=['Subject ID']) # This can be done because the instances without an identifier were used to add extra comments to the same patient.\n",
        "\n",
        "print(database_info, \"\\n\", database_info.isna().sum())"
      ]
    },
    {
      "cell_type": "code",
      "execution_count": null,
      "metadata": {
        "colab": {
          "base_uri": "https://localhost:8080/"
        },
        "id": "gEIlAVpky7Kh",
        "outputId": "3e65724d-1158-456e-a9a1-554ce8502b92"
      },
      "outputs": [],
      "source": [
        "# Adjusts the patient ID to match the file name, except for twins.\n",
        "database_info[\"Subject ID\"] = database_info[\"Subject ID\"].astype(str) # Convert to string\n",
        "database_info[\"Subject ID\"] = database_info[\"Subject ID\"].apply(lambda s_id: \"f\"+str(int(s_id[-3:])) if s_id.startswith(\"F93\") else s_id)\n",
        "\n",
        "print(database_info['Subject ID'])"
      ]
    },
    {
      "cell_type": "code",
      "execution_count": null,
      "metadata": {
        "colab": {
          "base_uri": "https://localhost:8080/"
        },
        "id": "JiPygyvMys7I",
        "outputId": "aa12a759-6fe8-4bcb-8430-89dc4ac4587e"
      },
      "outputs": [],
      "source": [
        "# Renames the IDs of the twin instances where the notation is different. \n",
        "def transform_subject_id(subject_id):\n",
        "    match = re.match(r'^(F?\\d+-?\\d*):?.*$', subject_id)\n",
        "    if match:\n",
        "        return 'f' + match.group(1).replace('F', '').lower()\n",
        "    return subject_id\n",
        "\n",
        "pattern = '^f\\d+$'\n",
        "\n",
        "database_info['Subject ID'] = database_info['Subject ID'].apply(transform_subject_id)\n",
        "\n",
        "print(database_info['Subject ID'].to_string())"
      ]
    },
    {
      "cell_type": "code",
      "execution_count": null,
      "metadata": {
        "colab": {
          "base_uri": "https://localhost:8080/"
        },
        "id": "w1DS3lq9nPrn",
        "outputId": "31812faf-b4ad-4ccd-a672-a97b037068a8"
      },
      "outputs": [],
      "source": [
        "# Remove empty data from BPM\n",
        "database_info = database_info.replace(\"[]\", np.nan)\n",
        "database_info = database_info.dropna(subset=['BPM'])\n",
        "database_info = database_info.reset_index(drop=True) # The dropna causes the index to become non-sequential, so it is necessary to reset it.\n",
        "print(database_info.to_string())"
      ]
    },
    {
      "cell_type": "code",
      "execution_count": null,
      "metadata": {
        "colab": {
          "base_uri": "https://localhost:8080/",
          "height": 147
        },
        "id": "F7EBL_6HsdN8",
        "outputId": "8f4d6dc5-5fa8-49fa-8fbd-9f4d03bcae70"
      },
      "outputs": [],
      "source": [
        "# Confirming that there are no missing data\n",
        "database_info.isna().sum()"
      ]
    },
    {
      "cell_type": "code",
      "execution_count": null,
      "metadata": {
        "colab": {
          "base_uri": "https://localhost:8080/"
        },
        "id": "_AAdLLomlOW5",
        "outputId": "9abb0c40-973a-4888-bc7a-060d8cf84b89"
      },
      "outputs": [],
      "source": [
        "# Put the recordings that are labeled (with BPM) into a list and compare how many recordings remain after removing those without a label.\n",
        "\n",
        "lista_gravacoes_feto = list(database_info['Subject ID'])\n",
        "print(\"Número de gravações do feto com BPM:\", len(lista_gravacoes_feto))\n",
        "lista_gravacoes_feto_dataset_completo = [file_name for file_name in os.listdir(raw_database_path) if file_name.endswith(\".wav\") and file_name.startswith('f')]\n",
        "print(\"Número de gravações totais do feto:\", len(lista_gravacoes_feto_dataset_completo))\n"
      ]
    },
    {
      "cell_type": "code",
      "execution_count": null,
      "metadata": {
        "colab": {
          "base_uri": "https://localhost:8080/",
          "height": 423
        },
        "id": "sl7nRdLOAOxw",
        "outputId": "56d19d11-1543-40d8-84f1-338bce2cb59c"
      },
      "outputs": [],
      "source": [
        "# Adding the theoretical duration of the audio based on the number of BPM records per audio, as each record corresponds to 10 seconds.\n",
        "database_info['suposed_duration'] = database_info['BPM'].apply(lambda x: (x.count(\"-\") + 1)*10)\n",
        "database_info"
      ]
    },
    {
      "cell_type": "markdown",
      "metadata": {
        "id": "Fpws-u7R_0nn"
      },
      "source": [
        "Now adding more audio file information to dataset_info"
      ]
    },
    {
      "cell_type": "code",
      "execution_count": null,
      "metadata": {
        "id": "I1jGUWYMCvM0"
      },
      "outputs": [],
      "source": [
        "def get_wav_info(file_name):\n",
        "    with wave.open(file_name, 'rb') as wav_file:\n",
        "\n",
        "        num_channels = wav_file.getnchannels()\n",
        "        sample_width = wav_file.getsampwidth()\n",
        "        frame_rate = wav_file.getframerate()\n",
        "        num_frames = wav_file.getnframes()\n",
        "        duration = num_frames / frame_rate\n",
        "        return num_channels, sample_width, frame_rate, num_frames, duration"
      ]
    },
    {
      "cell_type": "code",
      "execution_count": null,
      "metadata": {
        "id": "MP7IERWMCmeg"
      },
      "outputs": [],
      "source": [
        "num_channels_list = []\n",
        "sample_width_list = []\n",
        "frame_rate_list = []\n",
        "num_frames_list = []\n",
        "duration_list = []\n",
        "\n",
        "for subject_id in database_info['Subject ID']:\n",
        "    file_name = os.path.join(raw_database_path, f\"{subject_id}.wav\")\n",
        "    num_channels, sample_width, frame_rate, num_frames, duration = get_wav_info(file_name)\n",
        "    num_channels_list.append(num_channels)\n",
        "    sample_width_list.append(sample_width)\n",
        "    frame_rate_list.append(frame_rate)\n",
        "    num_frames_list.append(num_frames)\n",
        "    duration_list.append(duration)\n",
        "\n",
        "database_info['num_channels'] = num_channels_list\n",
        "database_info['sample_width'] = sample_width_list\n",
        "database_info['frame_rate'] = frame_rate_list\n",
        "database_info['num_frames'] = num_frames_list\n",
        "database_info['duration'] = duration_list"
      ]
    },
    {
      "cell_type": "code",
      "execution_count": null,
      "metadata": {
        "colab": {
          "base_uri": "https://localhost:8080/",
          "height": 423
        },
        "id": "rzLvdGz9C0kl",
        "outputId": "6d5be84a-8bac-4594-d4cf-63c3808bcf6d"
      },
      "outputs": [],
      "source": [
        "database_info"
      ]
    },
    {
      "cell_type": "code",
      "execution_count": null,
      "metadata": {
        "colab": {
          "base_uri": "https://localhost:8080/"
        },
        "id": "2-ndP0fJ559i",
        "outputId": "fe41568e-1ead-4ac8-fad7-8027612238a3"
      },
      "outputs": [],
      "source": [
        "# Checking if the audio files are standardized.\n",
        "print(database_info[\"num_channels\"].value_counts())\n",
        "print(database_info[\"frame_rate\"].value_counts())\n",
        "print(database_info[\"sample_width\"].value_counts())"
      ]
    },
    {
      "cell_type": "code",
      "execution_count": null,
      "metadata": {
        "colab": {
          "base_uri": "https://localhost:8080/"
        },
        "id": "E6OLRiN9Ma5U",
        "outputId": "bf0341ee-194b-4055-ec86-4bb9539a3949"
      },
      "outputs": [],
      "source": [
        "# Remove the frame_rate that is different\n",
        "database_info = database_info[database_info[\"frame_rate\"] != 8000]\n",
        "print(database_info[\"frame_rate\"].value_counts())"
      ]
    },
    {
      "cell_type": "code",
      "execution_count": null,
      "metadata": {
        "colab": {
          "base_uri": "https://localhost:8080/",
          "height": 527
        },
        "id": "dvF8YL5pqAoe",
        "outputId": "d10f05b2-2bb6-449b-c34b-79367ac2198f"
      },
      "outputs": [],
      "source": [
        "# Checking the difference in durations.\n",
        "database_info[\"duration_diff\"] = database_info[\"duration\"] - database_info[\"suposed_duration\"]\n",
        "database_info"
      ]
    },
    {
      "cell_type": "code",
      "execution_count": null,
      "metadata": {
        "colab": {
          "base_uri": "https://localhost:8080/"
        },
        "id": "7yj9cNfAEdXc",
        "outputId": "39e15cdb-62ac-41c7-bed7-c2298cfd8cad"
      },
      "outputs": [],
      "source": [
        "print(database_info[\"duration\"].describe())\n",
        "print(database_info[\"suposed_duration\"].describe())"
      ]
    },
    {
      "cell_type": "code",
      "execution_count": null,
      "metadata": {
        "id": "wKgZ7qQiclHu"
      },
      "outputs": [],
      "source": [
        "# Saving the clean .xlsx file\n",
        "database_info.to_excel(os.path.join(databases_infos_path, \"database_info.xlsx\"))"
      ]
    }
  ],
  "metadata": {
    "colab": {
      "provenance": []
    },
    "kernelspec": {
      "display_name": "Python 3",
      "name": "python3"
    },
    "language_info": {
      "name": "python"
    }
  },
  "nbformat": 4,
  "nbformat_minor": 0
}
