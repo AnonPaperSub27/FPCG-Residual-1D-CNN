{
  "cells": [
    {
      "cell_type": "code",
      "execution_count": null,
      "metadata": {
        "colab": {
          "base_uri": "https://localhost:8080/"
        },
        "id": "pRoV4ViXpiW_",
        "outputId": "e757b434-a28a-41d9-e2ab-dce4b383cccb"
      },
      "outputs": [],
      "source": [
        "!pip install PyWavelets"
      ]
    },
    {
      "cell_type": "code",
      "execution_count": null,
      "metadata": {
        "id": "V0PizSTfI5T5"
      },
      "outputs": [],
      "source": [
        "from google.colab import drive\n",
        "import pandas as pd\n",
        "import pywt\n",
        "import os\n",
        "import numpy as np\n",
        "import librosa\n",
        "import matplotlib.pyplot as plt\n",
        "import soundfile as sf\n",
        "import wave\n",
        "from scipy.signal import butter, sosfiltfilt"
      ]
    },
    {
      "cell_type": "code",
      "execution_count": null,
      "metadata": {
        "colab": {
          "base_uri": "https://localhost:8080/"
        },
        "id": "yYOSmIo6VXqh",
        "outputId": "043a7113-cad2-48b2-f235-021569af419f"
      },
      "outputs": [],
      "source": [
        "drive.mount('/content/drive') # Change if needed\n",
        "database_path = \"\" # Write the raw_database/ path\n",
        "denoized_database_path = \"\" # Write the denoized_database/ path\n",
        "databases_infos_path = \"\" # Write a directory path where you are reading and saving .xlsx files with databases informations."
      ]
    },
    {
      "cell_type": "code",
      "execution_count": null,
      "metadata": {
        "id": "wKgZ7qQiclHu"
      },
      "outputs": [],
      "source": [
        "database_info = pd.read_excel(os.path.join(databases_infos_path, \"database_info.xlsx\"))"
      ]
    },
    {
      "cell_type": "code",
      "execution_count": null,
      "metadata": {
        "colab": {
          "base_uri": "https://localhost:8080/"
        },
        "id": "nQNdV2aLMPpS",
        "outputId": "107bc6a5-57e1-49d8-f150-4cf48ab3cc46"
      },
      "outputs": [],
      "source": [
        "print(database_info)"
      ]
    },
    {
      "cell_type": "code",
      "execution_count": null,
      "metadata": {
        "id": "yOVQgJuBu41Z"
      },
      "outputs": [],
      "source": [
        "# Complete audio example\n",
        "example_file_path = os.path.join(database_path, database_info['Subject ID'][0] + \".wav\")"
      ]
    },
    {
      "cell_type": "code",
      "execution_count": null,
      "metadata": {
        "colab": {
          "base_uri": "https://localhost:8080/",
          "height": 599
        },
        "id": "IWPMrDeWxy15",
        "outputId": "26dfc03e-4cda-4505-ed0a-b9486d3e369c"
      },
      "outputs": [],
      "source": [
        "# Spectogram example\n",
        "y, sr = librosa.load(example_file_path)\n",
        "sr = 16000\n",
        "print(f'Audio wave size (y): {y.shape}')\n",
        "print(f'Sample rate (sr): {sr}')\n",
        "\n",
        "D = librosa.stft(y)\n",
        "S_db = librosa.amplitude_to_db(abs(D), ref=np.max)\n",
        "\n",
        "plt.figure(figsize=(14, 6))\n",
        "librosa.display.specshow(S_db, sr=sr, x_axis='time', y_axis='log')\n",
        "plt.colorbar(format='%+2.0f dB')\n",
        "plt.title('Spectrogram')\n",
        "plt.xlabel('Time')\n",
        "plt.ylabel('Frequency')\n",
        "\n",
        "duration = librosa.get_duration(y=y, sr=sr)\n",
        "ticks = range(0, int(duration)+1, 10)\n",
        "plt.xticks(ticks, ticks) \n",
        "\n",
        "plt.show()"
      ]
    },
    {
      "cell_type": "code",
      "execution_count": null,
      "metadata": {
        "colab": {
          "base_uri": "https://localhost:8080/"
        },
        "id": "suOkjmjPKXzE",
        "outputId": "4f955870-5e1a-4649-b0f3-4e5f0e1a000f"
      },
      "outputs": [],
      "source": [
        "# Wave form example\n",
        "audio_data, sr = librosa.load(example_file_path)\n",
        "\n",
        "plt.figure(figsize=(10, 4))\n",
        "librosa.display.waveshow(audio_data[5000:8000], sr=16000)\n",
        "plt.title('Forma de Onda')\n",
        "plt.xlabel('Tempo (s)')\n",
        "plt.ylabel('Amplitude')\n",
        "plt.show()"
      ]
    },
    {
      "cell_type": "code",
      "execution_count": null,
      "metadata": {
        "colab": {
          "base_uri": "https://localhost:8080/"
        },
        "id": "jcBrY1E4ceOn",
        "outputId": "a051334b-1fa7-497f-9238-e1ce790015cc"
      },
      "outputs": [],
      "source": [
        "# 10 seconds spectogram example\n",
        "y, sr = librosa.load(example_file_path, sr=16000)\n",
        "\n",
        "duracao = 10\n",
        "y = y[:duracao * sr]\n",
        "\n",
        "print(f'Audio wave size (y): {y.shape}')\n",
        "print(f'Sample rate (sr): {sr}')\n",
        "\n",
        "D = librosa.stft(y)\n",
        "S_db = librosa.amplitude_to_db(abs(D), ref=np.max)\n",
        "\n",
        "plt.figure(figsize=(10, 6))\n",
        "librosa.display.specshow(S_db, sr=sr, x_axis='time', y_axis='log')\n",
        "plt.colorbar(format='%+2.0f dB')\n",
        "plt.title('10 seconds spectogram with BPM=132')\n",
        "plt.xlabel('Time')\n",
        "plt.ylabel('Frequency')\n",
        "plt.show()"
      ]
    },
    {
      "cell_type": "code",
      "execution_count": null,
      "metadata": {
        "colab": {
          "base_uri": "https://localhost:8080/"
        },
        "id": "dviTo1EqUBzK",
        "outputId": "9710a506-7eb6-48af-9e9f-260ff9dee375"
      },
      "outputs": [],
      "source": [
        "# Check if audio is normalized\n",
        "def verify_normalization(subject_id):\n",
        "  path_audio_completo = os.path.join(database_path, subject_id + \".wav\")\n",
        "  audio, sr = librosa.load(path_audio_completo, sr=16000)\n",
        "\n",
        "  max_amplitude = np.max(np.abs(audio))\n",
        "\n",
        "  if max_amplitude <= 1.0:\n",
        "      return True\n",
        "  else:\n",
        "      return False\n",
        "\n",
        "lista_nao_normalizados = []\n",
        "for index, coluna in database_info.iterrows():\n",
        "    if not verify_normalization(coluna['Subject ID']):\n",
        "      lista_nao_normalizados.append(coluna['Subject ID'])\n",
        "\n",
        "print(lista_nao_normalizados)\n"
      ]
    },
    {
      "cell_type": "markdown",
      "metadata": {
        "id": "e_h90wlfeHfL"
      },
      "source": [
        "### Filters"
      ]
    },
    {
      "cell_type": "code",
      "execution_count": null,
      "metadata": {
        "id": "SFfBOcJKax5h"
      },
      "outputs": [],
      "source": [
        "def normalize_audio(data):\n",
        "    max_amplitude = np.max(np.abs(data))\n",
        "    normalized_data = data / max_amplitude  # Normalize between [-1, 1]\n",
        "    return normalized_data"
      ]
    },
    {
      "cell_type": "code",
      "execution_count": null,
      "metadata": {
        "id": "UVi_O6gPfjGs"
      },
      "outputs": [],
      "source": [
        "def rescale_audio(data, mult=100):\n",
        "    return data * mult  # Rescale between [-100, 100]"
      ]
    },
    {
      "cell_type": "code",
      "execution_count": null,
      "metadata": {
        "id": "UozNzNpGflsx"
      },
      "outputs": [],
      "source": [
        "def butter_bandpass_filter(data, lowcut=20, highcut=120, order=6, fs=16000):\n",
        "    nyquist = 0.5 * fs # Nyquist ensures that the filter operates correctly within the limits of audible frequencies and prevents distortions during audio processing.\n",
        "    low = lowcut / nyquist\n",
        "    high = highcut / nyquist\n",
        "\n",
        "    if not (0 < low < high < 1):\n",
        "      raise ValueError(\"Invalid cutoff frequencies. Ensure that 0 < low < high < 1.\")\n",
        "\n",
        "    if not np.isfinite(data).all():\n",
        "        raise ValueError(\"The input contains NaN or Inf values.\")\n",
        "\n",
        "    sos = butter(order, [low, high], btype='band', output='sos')\n",
        "    y = sosfiltfilt(sos, data)\n",
        "\n",
        "    if not np.isfinite(y).all():\n",
        "        raise ValueError(\"The filter generated non-finite values (NaN or Inf) in the signal.\")\n",
        "\n",
        "\n",
        "    return y"
      ]
    },
    {
      "cell_type": "code",
      "execution_count": null,
      "metadata": {
        "id": "jewjO6YWfpNA"
      },
      "outputs": [],
      "source": [
        "def estimate_sigma(detail_coeffs):\n",
        "    return np.median(np.abs(detail_coeffs)) / 0.6745\n",
        "\n",
        "def wavelet_filter(data, wavelet='coif4', level=7):\n",
        "    coeffs = pywt.wavedec(data, wavelet, level=level) # wavelet decomposition\n",
        "    sigma = estimate_sigma(coeffs[-1]) # Estimate the noise sigma using the detail coefficients at the first level\n",
        "    threshold = sigma * np.sqrt(2 * np.log(len(data))) # Calculate the universal threshold\n",
        "    thresholded_coeffs = coeffs.copy() # Apply soft thresholding to the detail coefficients\n",
        "    for i in range(1, len(coeffs)):\n",
        "        thresholded_coeffs[i] = pywt.threshold(coeffs[i], threshold, mode='soft')\n",
        "\n",
        "    denoised_data = pywt.waverec(thresholded_coeffs, wavelet) # Reconstruct the signal using the thresholded coefficients\n",
        "\n",
        "\n",
        "    denoised_data = denoised_data[:len(data)] # Truncate or pad the reconstructed signal to match the original length\n",
        "\n",
        "    return denoised_data\n"
      ]
    },
    {
      "cell_type": "code",
      "execution_count": null,
      "metadata": {
        "id": "coyeO_1DgCLg"
      },
      "outputs": [],
      "source": [
        "def apply_tranformations(file_path, transformations):\n",
        "    data, sample_rate = librosa.load(file_path, sr=16000)\n",
        "\n",
        "    transformed_data = data\n",
        "    for transform in transformations:\n",
        "        transformed_data = transform(transformed_data)\n",
        "\n",
        "    return transformed_data"
      ]
    },
    {
      "cell_type": "markdown",
      "metadata": {
        "id": "adOFyxt04fg8"
      },
      "source": [
        "Assembling 10 second instances and placing them in a directory."
      ]
    },
    {
      "cell_type": "code",
      "execution_count": null,
      "metadata": {
        "id": "ufH7idilhc2z"
      },
      "outputs": [],
      "source": [
        "# Delete the created files that are in the output folder.\n",
        "\n",
        "# def apagar_conteudo_diretorio(diretorio):\n",
        "#     # Verifica se o diretório existe\n",
        "#     if os.path.exists(diretorio):\n",
        "#         # Lista todos os arquivos e subdiretórios no diretório\n",
        "#         for filename in os.listdir(diretorio):\n",
        "#             file_path = os.path.join(diretorio, filename)\n",
        "#             try:\n",
        "#                 # Se for um arquivo ou link simbólico, apaga\n",
        "#                 if os.path.isfile(file_path) or os.path.islink(file_path):\n",
        "#                     os.unlink(file_path)\n",
        "#                 # Se for um diretório, apaga recursivamente\n",
        "#                 elif os.path.isdir(file_path):\n",
        "#                     apagar_conteudo_diretorio(file_path)\n",
        "#                     os.rmdir(file_path)  # Remove o diretório vazio\n",
        "#             except Exception as e:\n",
        "#                 print(f\"Erro ao apagar {file_path}. Detalhes: {e}\")\n",
        "#     else:\n",
        "#         print(f\"O diretório {diretorio} não existe.\")\n",
        "\n",
        "# apagar_conteudo_diretorio(denoized_database_path)"
      ]
    },
    {
      "cell_type": "code",
      "execution_count": null,
      "metadata": {
        "id": "7ufAzDtXvxVJ"
      },
      "outputs": [],
      "source": [
        "def separate_audio(subject_id, bpm_completo):\n",
        "  lista_bpm = bpm_completo.split('-')\n",
        "\n",
        "\n",
        "  path_audio_completo = os.path.join(database_path, subject_id + \".wav\")\n",
        "  audio = apply_tranformations(path_audio_completo, [normalize_audio, butter_bandpass_filter, wavelet_filter])\n",
        "\n",
        "  duracao = 10 * sr\n",
        "\n",
        "  ids = []\n",
        "  bpms = []\n",
        "\n",
        "  ponteiro_inicio_audio = 0\n",
        "  contador_segmentos = 0\n",
        "  for bpm in lista_bpm:\n",
        "    if bpm != \"[]\":\n",
        "      ponteiro_final_audio = ponteiro_inicio_audio + duracao\n",
        "      segmento = audio[ponteiro_inicio_audio:ponteiro_final_audio]\n",
        "      path_saida = os.path.join(denoized_database_path , f'{subject_id}_{contador_segmentos}_{bpm}.wav')\n",
        "      sf.write(path_saida, segmento, sr)\n",
        "      ids.append(f'{subject_id}_{contador_segmentos}')\n",
        "      bpms.append(bpm)\n",
        "      contador_segmentos += 1\n",
        "    ponteiro_inicio_audio += duracao\n",
        "\n",
        "  return pd.DataFrame({'ID': ids, 'BPM': bpms})\n",
        "\n"
      ]
    },
    {
      "cell_type": "code",
      "execution_count": null,
      "metadata": {
        "id": "i6iX-gLGIGAv"
      },
      "outputs": [],
      "source": [
        "lista_df_segmentos = []\n",
        "\n",
        "for index, coluna in database_info.iterrows():\n",
        "    df_segmentos = separate_audio(coluna['Subject ID'], coluna['BPM'])\n",
        "    lista_df_segmentos.append(df_segmentos)\n",
        "\n",
        "df = pd.concat(lista_df_segmentos, ignore_index=True)"
      ]
    },
    {
      "cell_type": "code",
      "execution_count": null,
      "metadata": {
        "colab": {
          "base_uri": "https://localhost:8080/"
        },
        "id": "ur8rKl5uLFLa",
        "outputId": "a0935b58-13bf-495d-8ef9-27508c6b5dfd"
      },
      "outputs": [],
      "source": [
        "print(df.to_string())"
      ]
    },
    {
      "cell_type": "code",
      "execution_count": null,
      "metadata": {
        "id": "JmNJ_QNKN8Dr"
      },
      "outputs": [],
      "source": [
        "def get_wav_info(file_name):\n",
        "    with wave.open(file_name, 'rb') as wav_file:\n",
        "\n",
        "        num_channels = wav_file.getnchannels()\n",
        "        sample_width = wav_file.getsampwidth()\n",
        "        frame_rate = wav_file.getframerate()\n",
        "        num_frames = wav_file.getnframes()\n",
        "        duration = num_frames / frame_rate\n",
        "        return num_channels, sample_width, frame_rate, num_frames, duration"
      ]
    },
    {
      "cell_type": "code",
      "execution_count": null,
      "metadata": {
        "id": "1DdxLZJSWgWo"
      },
      "outputs": [],
      "source": [
        "num_channels_list = []\n",
        "sample_width_list = []\n",
        "frame_rate_list = []\n",
        "num_frames_list = []\n",
        "duration_list = []\n",
        "\n",
        "for index, coluna in df.iterrows():\n",
        "    file_name = os.path.join(denoized_database_path, f\"{coluna['ID'] + '_' + coluna['BPM']}.wav\")\n",
        "    num_channels, sample_width, frame_rate, num_frames, duration = get_wav_info(file_name)\n",
        "    num_channels_list.append(num_channels)\n",
        "    sample_width_list.append(sample_width)\n",
        "    frame_rate_list.append(frame_rate)\n",
        "    num_frames_list.append(num_frames)\n",
        "    duration_list.append(duration)\n",
        "\n",
        "df['num_channels'] = num_channels_list\n",
        "df['sample_width'] = sample_width_list\n",
        "df['frame_rate'] = frame_rate_list\n",
        "df['num_frames'] = num_frames_list\n",
        "df['duration'] = duration_list"
      ]
    },
    {
      "cell_type": "code",
      "execution_count": null,
      "metadata": {
        "colab": {
          "base_uri": "https://localhost:8080/"
        },
        "id": "zXkPyXE4b3BV",
        "outputId": "273ea349-1236-4615-83e9-93120dcded08"
      },
      "outputs": [],
      "source": [
        "print(len(df))"
      ]
    },
    {
      "cell_type": "code",
      "execution_count": null,
      "metadata": {
        "colab": {
          "base_uri": "https://localhost:8080/"
        },
        "id": "w4-Xs_PlW3vr",
        "outputId": "29aef30d-eaab-47a9-9a9a-95c7eee78009"
      },
      "outputs": [],
      "source": [
        "print(df.to_string())"
      ]
    },
    {
      "cell_type": "code",
      "execution_count": null,
      "metadata": {
        "colab": {
          "base_uri": "https://localhost:8080/"
        },
        "id": "-LZE_4aAXC6x",
        "outputId": "17234858-c3fb-43b7-857a-c27117fc3367"
      },
      "outputs": [],
      "source": [
        "print(df[\"num_channels\"].value_counts())\n",
        "print(df[\"sample_width\"].value_counts())\n",
        "print(df[\"frame_rate\"].value_counts())\n",
        "print(df[\"num_frames\"].value_counts())\n",
        "print(df[\"duration\"].value_counts())"
      ]
    },
    {
      "cell_type": "code",
      "execution_count": null,
      "metadata": {
        "id": "5hrkn5qSenKv"
      },
      "outputs": [],
      "source": [
        "# Delete segments shorter than 10 seconds\n",
        "instancias_com_pouca_duracao = df[df[\"duration\"] < 10]\n",
        "\n",
        "for index, coluna in instancias_com_pouca_duracao.iterrows():\n",
        "  os.remove(os.path.join(denoized_database_path, f\"{coluna['ID'] + '_' + coluna['BPM']}.wav\"))\n",
        "  df = df.drop(index)\n"
      ]
    },
    {
      "cell_type": "code",
      "execution_count": null,
      "metadata": {
        "colab": {
          "base_uri": "https://localhost:8080/"
        },
        "id": "nm24iL2dfGJS",
        "outputId": "d3cd2d89-53ae-4ef3-f609-6289ee3dbd88"
      },
      "outputs": [],
      "source": [
        "print(df[\"num_channels\"].value_counts())\n",
        "print(df[\"sample_width\"].value_counts())\n",
        "print(df[\"frame_rate\"].value_counts())\n",
        "print(df[\"num_frames\"].value_counts())\n",
        "print(df[\"duration\"].value_counts())"
      ]
    },
    {
      "cell_type": "code",
      "execution_count": null,
      "metadata": {
        "id": "oH48ae2QJeII"
      },
      "outputs": [],
      "source": [
        "df.to_excel(os.path.join(databases_infos_path, \"instances.xlsx\"))"
      ]
    }
  ],
  "metadata": {
    "colab": {
      "provenance": []
    },
    "kernelspec": {
      "display_name": "Python 3",
      "name": "python3"
    },
    "language_info": {
      "name": "python"
    }
  },
  "nbformat": 4,
  "nbformat_minor": 0
}
