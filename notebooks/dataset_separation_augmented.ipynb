{
  "cells": [
    {
      "cell_type": "code",
      "execution_count": null,
      "metadata": {
        "colab": {
          "base_uri": "https://localhost:8080/"
        },
        "id": "pRoV4ViXpiW_",
        "outputId": "c34e27ac-b6bf-4216-d477-e7fc0a949e53"
      },
      "outputs": [],
      "source": [
        "!pip install PyWavelets"
      ]
    },
    {
      "cell_type": "code",
      "execution_count": null,
      "metadata": {
        "id": "V0PizSTfI5T5"
      },
      "outputs": [],
      "source": [
        "from google.colab import drive\n",
        "import pandas as pd\n",
        "import pywt\n",
        "import os\n",
        "import numpy as np\n",
        "import librosa\n",
        "import matplotlib.pyplot as plt\n",
        "import soundfile as sf\n",
        "import wave\n",
        "from scipy.signal import butter, sosfiltfilt"
      ]
    },
    {
      "cell_type": "code",
      "execution_count": null,
      "metadata": {
        "colab": {
          "base_uri": "https://localhost:8080/"
        },
        "id": "yYOSmIo6VXqh",
        "outputId": "551a3c17-4ae1-486c-bab5-abba482d9918"
      },
      "outputs": [],
      "source": [
        "drive.mount('/content/drive') # Change if needed\n",
        "database_path = \"\" # Write the raw_database/ path\n",
        "denoized_augmented_database_path = \"\" # Write the denoized_database/ path\n",
        "databases_infos_path = \"\" # Write a directory path where you are reading and saving .xlsx files with databases informations."
      ]
    },
    {
      "cell_type": "code",
      "execution_count": null,
      "metadata": {
        "id": "wKgZ7qQiclHu"
      },
      "outputs": [],
      "source": [
        "database_info = pd.read_excel(os.path.join(databases_infos_path, \"database_info.xlsx\")) # Carrega informações do dataset limpo"
      ]
    },
    {
      "cell_type": "code",
      "execution_count": null,
      "metadata": {
        "colab": {
          "base_uri": "https://localhost:8080/"
        },
        "id": "nQNdV2aLMPpS",
        "outputId": "6733321b-5a75-40c2-d502-41fed1c9f561"
      },
      "outputs": [],
      "source": [
        "print(database_info)"
      ]
    },
    {
      "cell_type": "code",
      "execution_count": null,
      "metadata": {
        "colab": {
          "base_uri": "https://localhost:8080/"
        },
        "id": "dviTo1EqUBzK",
        "outputId": "a473fcb8-aa6f-4895-ff0e-489139099836"
      },
      "outputs": [],
      "source": [
        "# Check if audio is normalized\n",
        "def verify_normalization(subject_id):\n",
        "  path_audio_completo = os.path.join(database_path, subject_id + \".wav\")\n",
        "  audio, sr = librosa.load(path_audio_completo, sr=16000)\n",
        "\n",
        "  max_amplitude = np.max(np.abs(audio))\n",
        "\n",
        "  if max_amplitude <= 1.0:\n",
        "      return True\n",
        "  else:\n",
        "      return False\n",
        "\n",
        "lista_nao_normalizados = []\n",
        "for index, coluna in database_info.iterrows():\n",
        "    if not verify_normalization(coluna['Subject ID']):\n",
        "      lista_nao_normalizados.append(coluna['Subject ID'])\n",
        "\n",
        "print(lista_nao_normalizados)\n"
      ]
    },
    {
      "cell_type": "markdown",
      "metadata": {
        "id": "e_h90wlfeHfL"
      },
      "source": [
        "### Filters"
      ]
    },
    {
      "cell_type": "code",
      "execution_count": null,
      "metadata": {
        "id": "SFfBOcJKax5h"
      },
      "outputs": [],
      "source": [
        "def normalize_audio(data):\n",
        "    max_amplitude = np.max(np.abs(data))\n",
        "    normalized_data = data / max_amplitude  # Normalize between [-1, 1]\n",
        "    return normalized_data"
      ]
    },
    {
      "cell_type": "code",
      "execution_count": null,
      "metadata": {
        "id": "UVi_O6gPfjGs"
      },
      "outputs": [],
      "source": [
        "def rescale_audio(data, mult=100):\n",
        "    return data * mult  # Rescale between [-100, 100]"
      ]
    },
    {
      "cell_type": "code",
      "execution_count": null,
      "metadata": {
        "id": "UozNzNpGflsx"
      },
      "outputs": [],
      "source": [
        "def butter_bandpass_filter(data, lowcut=20, highcut=120, order=6, fs=16000): # filtra a frequencia do audio na 6 ordem\n",
        "    nyquist = 0.5 * fs # Nyquist ensures that the filter operates correctly within the limits of audible frequencies and prevents distortions during audio processing.\n",
        "    low = lowcut / nyquist\n",
        "    high = highcut / nyquist\n",
        "\n",
        "    if not (0 < low < high < 1):\n",
        "      raise ValueError(\"Invalid cutoff frequencies. Ensure that 0 < low < high < 1.\")\n",
        "\n",
        "    if not np.isfinite(data).all():\n",
        "        raise ValueError(\"The input contains NaN or Inf values.\")\n",
        "\n",
        "    sos = butter(order, [low, high], btype='band', output='sos')\n",
        "    y = sosfiltfilt(sos, data)\n",
        "\n",
        "    if not np.isfinite(y).all():\n",
        "        raise ValueError(\"The filter generated non-finite values (NaN or Inf) in the signal.\")\n",
        "\n",
        "\n",
        "    return y"
      ]
    },
    {
      "cell_type": "code",
      "execution_count": null,
      "metadata": {
        "id": "jewjO6YWfpNA"
      },
      "outputs": [],
      "source": [
        "def estimate_sigma(detail_coeffs):\n",
        "    return np.median(np.abs(detail_coeffs)) / 0.6745\n",
        "\n",
        "def wavelet_filter(data, wavelet='coif4', level=7):\n",
        "    coeffs = pywt.wavedec(data, wavelet, level=level) # wavelet decomposition\n",
        "    sigma = estimate_sigma(coeffs[-1]) # Estimate the noise sigma using the detail coefficients at the first level\n",
        "    threshold = sigma * np.sqrt(2 * np.log(len(data))) # Calculate the universal threshold\n",
        "    thresholded_coeffs = coeffs.copy() # Apply soft thresholding to the detail coefficients\n",
        "    for i in range(1, len(coeffs)):\n",
        "        thresholded_coeffs[i] = pywt.threshold(coeffs[i], threshold, mode='soft')\n",
        "\n",
        "    denoised_data = pywt.waverec(thresholded_coeffs, wavelet) # Reconstruct the signal using the thresholded coefficients\n",
        "\n",
        "\n",
        "    denoised_data = denoised_data[:len(data)] # Truncate or pad the reconstructed signal to match the original length\n",
        "\n",
        "    return denoised_data\n"
      ]
    },
    {
      "cell_type": "code",
      "execution_count": null,
      "metadata": {
        "id": "coyeO_1DgCLg"
      },
      "outputs": [],
      "source": [
        "def apply_tranformations(file_path, transformations):\n",
        "    data, sample_rate = librosa.load(file_path, sr=16000)\n",
        "\n",
        "    transformed_data = data\n",
        "    for transform in transformations:\n",
        "        transformed_data = transform(transformed_data)\n",
        "\n",
        "    return transformed_data"
      ]
    },
    {
      "cell_type": "markdown",
      "metadata": {
        "id": "adOFyxt04fg8"
      },
      "source": [
        "Assembling 10 second instances and placing them in a directory."
      ]
    },
    {
      "cell_type": "code",
      "execution_count": null,
      "metadata": {
        "id": "ufH7idilhc2z"
      },
      "outputs": [],
      "source": [
        "# Delete the created files that are in the output folder.\n",
        "\n",
        "# def apagar_conteudo_diretorio(diretorio):\n",
        "#     # Verifica se o diretório existe\n",
        "#     if os.path.exists(diretorio):\n",
        "#         # Lista todos os arquivos e subdiretórios no diretório\n",
        "#         for filename in os.listdir(diretorio):\n",
        "#             file_path = os.path.join(diretorio, filename)\n",
        "#             try:\n",
        "#                 # Se for um arquivo ou link simbólico, apaga\n",
        "#                 if os.path.isfile(file_path) or os.path.islink(file_path):\n",
        "#                     os.unlink(file_path)\n",
        "#                 # Se for um diretório, apaga recursivamente\n",
        "#                 elif os.path.isdir(file_path):\n",
        "#                     apagar_conteudo_diretorio(file_path)\n",
        "#                     os.rmdir(file_path)  # Remove o diretório vazio\n",
        "#             except Exception as e:\n",
        "#                 print(f\"Erro ao apagar {file_path}. Detalhes: {e}\")\n",
        "#     else:\n",
        "#         print(f\"O diretório {diretorio} não existe.\")\n",
        "\n",
        "#apagar_conteudo_diretorio(denoized_augmented_database_path)"
      ]
    },
    {
      "cell_type": "code",
      "execution_count": null,
      "metadata": {
        "id": "7ufAzDtXvxVJ"
      },
      "outputs": [],
      "source": [
        "def separate_audio(subject_id, bpm_complete):\n",
        "    sr = 16000\n",
        "\n",
        "    # Convert the BPM string into a list\n",
        "    bpm_list = bpm_complete.split('-')\n",
        "\n",
        "    # Read the full audio file and apply filters\n",
        "    path_full_audio = os.path.join(database_path, subject_id + \".wav\")\n",
        "    audio = apply_tranformations(\n",
        "        path_full_audio,\n",
        "        [normalize_audio, butter_bandpass_filter, wavelet_filter]\n",
        "    )\n",
        "\n",
        "    # Duration of each segment in samples (e.g., 10 seconds)\n",
        "    duration = 10 * sr\n",
        "\n",
        "    # Temporarily store all segments (audio + bpm)\n",
        "    segments = []\n",
        "    start_audio_pointer = 0\n",
        "\n",
        "    # Iterate through each BPM, extract the corresponding segment, and store it in 'segments'\n",
        "    for bpm in bpm_list:\n",
        "        if bpm != \"[]\":\n",
        "            end_audio_pointer = start_audio_pointer + duration\n",
        "            segment = audio[start_audio_pointer:end_audio_pointer]\n",
        "            # Store tuple (segment, bpm_float)\n",
        "            segments.append((segment, float(bpm)))\n",
        "        else:\n",
        "            # Mark as None if empty (we won't generate anything later)\n",
        "            segments.append((None, None))\n",
        "        start_audio_pointer += duration\n",
        "\n",
        "    # Now we will save the original segments\n",
        "    ids = []\n",
        "    bpms = []\n",
        "    segment_counter = 0\n",
        "\n",
        "    for i, (segment, bpm) in enumerate(segments):\n",
        "        if segment is not None:\n",
        "            # Save the full segment\n",
        "            output_path = os.path.join(\n",
        "                denoized_augmented_database_path, f\"{subject_id}_{segment_counter}_{bpm}.wav\"\n",
        "            )\n",
        "            sf.write(output_path, segment, sr)\n",
        "\n",
        "            ids.append(f\"{subject_id}_{segment_counter}\")\n",
        "            bpms.append(bpm)\n",
        "            segment_counter += 1\n",
        "\n",
        "    # Now we create new segments: half of i and half of i+1\n",
        "    # Only if both are not None\n",
        "    for i in range(len(segments) - 1):\n",
        "        seg1, bpm1 = segments[i]\n",
        "        seg2, bpm2 = segments[i + 1]\n",
        "\n",
        "        if seg1 is not None and seg2 is not None:\n",
        "            # Take half of each segment\n",
        "            half1 = seg1[:duration // 2]\n",
        "            half2 = seg2[:duration // 2]\n",
        "            # Merge both halves\n",
        "            new_segment = np.concatenate([half1, half2])\n",
        "\n",
        "            # Assign the average BPM (can be rounded if desired)\n",
        "            new_bpm = (bpm1 + bpm2) / 2\n",
        "\n",
        "            # Save this new segment\n",
        "            output_path_mix = os.path.join(\n",
        "                denoized_augmented_database_path, f\"{subject_id}_{segment_counter}_{new_bpm}.wav\"\n",
        "            )\n",
        "            sf.write(output_path_mix, new_segment, sr)\n",
        "\n",
        "            # Update ID and BPM lists\n",
        "            ids.append(f\"{subject_id}_{segment_counter}\")\n",
        "            bpms.append(new_bpm)\n",
        "            segment_counter += 1\n",
        "\n",
        "    # Return a final DataFrame with all IDs and BPMs\n",
        "    return pd.DataFrame({'ID': ids, 'BPM': bpms})\n"
      ]
    },
    {
      "cell_type": "code",
      "execution_count": null,
      "metadata": {
        "id": "i6iX-gLGIGAv"
      },
      "outputs": [],
      "source": [
        "lista_df_segmentos = []\n",
        "\n",
        "for index, coluna in database_info.iterrows():\n",
        "    df_segmentos = separate_audio(coluna['Subject ID'], coluna['BPM'])\n",
        "    lista_df_segmentos.append(df_segmentos)\n",
        "\n",
        "df = pd.concat(lista_df_segmentos, ignore_index=True)"
      ]
    },
    {
      "cell_type": "code",
      "execution_count": null,
      "metadata": {
        "colab": {
          "base_uri": "https://localhost:8080/"
        },
        "id": "ur8rKl5uLFLa",
        "outputId": "c917af73-3456-41f0-e728-f3c28c1489c7"
      },
      "outputs": [],
      "source": [
        "print(df.to_string())"
      ]
    },
    {
      "cell_type": "code",
      "execution_count": null,
      "metadata": {
        "id": "JmNJ_QNKN8Dr"
      },
      "outputs": [],
      "source": [
        "def get_wav_info(file_name):\n",
        "    with wave.open(file_name, 'rb') as wav_file:\n",
        "\n",
        "        num_channels = wav_file.getnchannels()\n",
        "        sample_width = wav_file.getsampwidth()\n",
        "        frame_rate = wav_file.getframerate()\n",
        "        num_frames = wav_file.getnframes()\n",
        "        duration = num_frames / frame_rate\n",
        "        return num_channels, sample_width, frame_rate, num_frames, duration"
      ]
    },
    {
      "cell_type": "code",
      "execution_count": null,
      "metadata": {
        "id": "1DdxLZJSWgWo"
      },
      "outputs": [],
      "source": [
        "num_channels_list = []\n",
        "sample_width_list = []\n",
        "frame_rate_list = []\n",
        "num_frames_list = []\n",
        "duration_list = []\n",
        "\n",
        "for index, coluna in df.iterrows():\n",
        "    file_name = os.path.join(denoized_augmented_database_path, f\"{coluna['ID'] + '_' + str(coluna['BPM'])}.wav\")\n",
        "    num_channels, sample_width, frame_rate, num_frames, duration = get_wav_info(file_name)\n",
        "    num_channels_list.append(num_channels)\n",
        "    sample_width_list.append(sample_width)\n",
        "    frame_rate_list.append(frame_rate)\n",
        "    num_frames_list.append(num_frames)\n",
        "    duration_list.append(duration)\n",
        "\n",
        "df['num_channels'] = num_channels_list\n",
        "df['sample_width'] = sample_width_list\n",
        "df['frame_rate'] = frame_rate_list\n",
        "df['num_frames'] = num_frames_list\n",
        "df['duration'] = duration_list"
      ]
    },
    {
      "cell_type": "code",
      "execution_count": null,
      "metadata": {
        "colab": {
          "base_uri": "https://localhost:8080/"
        },
        "id": "zXkPyXE4b3BV",
        "outputId": "70e1af9e-efb7-4fc1-8736-c246a1b213a7"
      },
      "outputs": [],
      "source": [
        "print(len(df))"
      ]
    },
    {
      "cell_type": "code",
      "execution_count": null,
      "metadata": {
        "colab": {
          "base_uri": "https://localhost:8080/"
        },
        "id": "w4-Xs_PlW3vr",
        "outputId": "4ed6fe3b-2dbe-435f-8ec5-bf38f62cb97e"
      },
      "outputs": [],
      "source": [
        "print(df.to_string())"
      ]
    },
    {
      "cell_type": "code",
      "execution_count": null,
      "metadata": {
        "colab": {
          "base_uri": "https://localhost:8080/"
        },
        "id": "-LZE_4aAXC6x",
        "outputId": "8d23067e-1ad9-4069-bdac-350e2ffd39c9"
      },
      "outputs": [],
      "source": [
        "print(df[\"num_channels\"].value_counts())\n",
        "print(df[\"sample_width\"].value_counts())\n",
        "print(df[\"frame_rate\"].value_counts())\n",
        "print(df[\"num_frames\"].value_counts())\n",
        "print(df[\"duration\"].value_counts())"
      ]
    },
    {
      "cell_type": "code",
      "execution_count": null,
      "metadata": {
        "id": "5hrkn5qSenKv"
      },
      "outputs": [],
      "source": [
        "# Delete segments shorter than 10 seconds\n",
        "instancias_com_pouca_duracao = df[df[\"duration\"] < 10]\n",
        "\n",
        "for index, coluna in instancias_com_pouca_duracao.iterrows():\n",
        "  os.remove(os.path.join(denoized_augmented_database_path, f\"{coluna['ID'] + '_' + str(coluna['BPM'])}.wav\"))\n",
        "  df = df.drop(index)\n"
      ]
    },
    {
      "cell_type": "code",
      "execution_count": null,
      "metadata": {
        "colab": {
          "base_uri": "https://localhost:8080/"
        },
        "id": "nm24iL2dfGJS",
        "outputId": "38a9828b-6fd0-454d-f779-f98c579f96f5"
      },
      "outputs": [],
      "source": [
        "print(df[\"num_channels\"].value_counts())\n",
        "print(df[\"sample_width\"].value_counts())\n",
        "print(df[\"frame_rate\"].value_counts())\n",
        "print(df[\"num_frames\"].value_counts())\n",
        "print(df[\"duration\"].value_counts())"
      ]
    },
    {
      "cell_type": "code",
      "execution_count": null,
      "metadata": {
        "id": "oH48ae2QJeII"
      },
      "outputs": [],
      "source": [
        "df.to_excel(os.path.join(databases_infos_path, \"instances_augmented.xlsx\"))"
      ]
    }
  ],
  "metadata": {
    "colab": {
      "provenance": []
    },
    "kernelspec": {
      "display_name": "Python 3",
      "name": "python3"
    },
    "language_info": {
      "name": "python"
    }
  },
  "nbformat": 4,
  "nbformat_minor": 0
}
